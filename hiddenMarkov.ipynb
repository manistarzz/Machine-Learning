{
 "cells": [
  {
   "cell_type": "code",
   "execution_count": 7,
   "metadata": {},
   "outputs": [],
   "source": [
    "import tensorflow as tf\n",
    "import tensorflow_probability as tfp\n",
    "\n",
    "\n",
    "\n",
    "#1.cold days are encoded by a 0 and hot days by 1\n",
    "#2.The first day in our sequence has an 80% chance of being cold\n",
    "#3.A cold day has a 30% chance of being followed by a hot day\n",
    "#4.A  hot day has a 20% chance of being followed by a cold day\n",
    "#5. On each day the temperature is normally distributed with mean and standard deviation 0 and 5 on a cold day and 15 and 10 on a hot day meaning 10 on each side so 5-25"
   ]
  },
  {
   "cell_type": "code",
   "execution_count": 8,
   "metadata": {},
   "outputs": [],
   "source": [
    "tfd=tfp.distributions#making a shortcut for later on\n",
    "initial_distribution=tfd.Categorical(probs=[0.8,0.2])#refer to point 2above\n",
    "transition_distribution=tfd.Categorical(probs=[[0.7,0.3],[0.2,0.8]])#refers to 3&4\n",
    "\n",
    "observation_distribution=tfd.Normal(loc=[0.,15.],scale=[5,10.])#refer to point 5 above #loc is our average so 0 on a cold day and 15 on a cold and range is 5 on a cold and 10 on a hot"
   ]
  },
  {
   "cell_type": "code",
   "execution_count": 9,
   "metadata": {},
   "outputs": [],
   "source": [
    "model = tfd.HiddenMarkovModel(\n",
    "    initial_distribution=initial_distribution,\n",
    "    transition_distribution=transition_distribution,\n",
    "    observation_distribution=observation_distribution,\n",
    "    num_steps=7)"
   ]
  },
  {
   "cell_type": "code",
   "execution_count": 10,
   "metadata": {},
   "outputs": [
    {
     "name": "stdout",
     "output_type": "stream",
     "text": [
      "[3.        5.9999995 7.4999995 8.25      8.625     8.812501  8.90625  ]\n"
     ]
    }
   ],
   "source": [
    "mean=model.mean()\n",
    "\n",
    "#due to the way tensorflow works on a alower level we need to evalueate the graph\n",
    "with tf.compat.v1.Session() as sess:\n",
    "    print(mean.numpy())\n",
    "#model.log_prob(tf.zeros(shape=[7]))"
   ]
  }
 ],
 "metadata": {
  "kernelspec": {
   "display_name": "studysession",
   "language": "python",
   "name": "python3"
  },
  "language_info": {
   "codemirror_mode": {
    "name": "ipython",
    "version": 3
   },
   "file_extension": ".py",
   "mimetype": "text/x-python",
   "name": "python",
   "nbconvert_exporter": "python",
   "pygments_lexer": "ipython3",
   "version": "3.10.11"
  },
  "orig_nbformat": 4
 },
 "nbformat": 4,
 "nbformat_minor": 2
}
